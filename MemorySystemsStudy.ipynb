{
 "cells": [
  {
   "cell_type": "code",
   "execution_count": 1,
   "id": "d2b240b0",
   "metadata": {},
   "outputs": [],
   "source": [
    "#Python comes with 5 essential memory system features, these can mimic the memory storage of a human, however as AI are suited to simplified tasks, and don't have to breathe or eat or need nervous centers for pain response, it is hard to make direct parallels.\n",
    "\n",
    "#The CLTL Leolani pages, features the construction of a synthetic brain by fielding researchers\n",
    "#[The] model uses storage of streams of physical signals with interpretation and uses a triple store as a brain to cumulate interpretations through these streams. The ‘brain’ uses a theory of mind model to deal with different interpretations and perspectives.\n",
    "\n",
    "#In this work; Tae898's 'explicit-memory' repository;\n",
    "\n",
    "# \" In this work, we include episodic and semantic memory, as the memory\n",
    "#of the agent and a short-term working memory.\n",
    "#But, when diving into the details, you'll notice that these memories\n",
    "#are encoded as rather simple collections of triples/facts. \"\n",
    "\n",
    "#Typically these 5 parts are such, AI as it currently runs- [LLMs work on short-term and semantic; GPT-4 can handle 25,000 words of text in short-term and \"remember back\" up to about 50 pages/64k words]\n",
    "\n",
    "#Short Term\n",
    "#Long Term\n",
    "#Forgetting\n",
    "#Recall\n",
    "#Memory Retrieval\n",
    "\n",
    "#possibility for a 'long term' memory design, by which a BoW model is observed 'going backwards' towards a range of (0-5) years [average first word is about 2], to simulate genesis [or early childhood (no known words)], then add in learned words and phrases based on induction of frequency, to simulate learning a language organically, and mapping then, linguistics to concept.\n",
    "#  ->  to approach AI organically"
   ]
  },
  {
   "cell_type": "code",
   "execution_count": 2,
   "id": "09ac638a",
   "metadata": {},
   "outputs": [
    {
     "name": "stdout",
     "output_type": "stream",
     "text": [
      "['Event 1', 'Event 2', 'Event 3']\n"
     ]
    }
   ],
   "source": [
    "#Implementing a fully human-mimetic memory storage system in AI is a complex task that goes beyond a simple code example. However, I can provide you with a simplified code snippet that demonstrates how to create a basic memory storage system using Python:\n",
    "\n",
    "class MemoryStorage:\n",
    "    def __init__(self):\n",
    "        self.memory = []\n",
    "\n",
    "    def store(self, event):\n",
    "        self.memory.append(event)\n",
    "\n",
    "    def retrieve(self):\n",
    "        return self.memory\n",
    "\n",
    "#In this example, we create a `MemoryStorage` class that has a `memory` list. The `store()` method allows you to add events to the memory, and the `retrieve()` method returns the stored events.\n",
    "\n",
    "#To use the memory storage system:\n",
    "\n",
    "# Create an instance of the MemoryStorage class\n",
    "memory = MemoryStorage()\n",
    "\n",
    "# Store some events\n",
    "memory.store(\"Event 1\")\n",
    "memory.store(\"Event 2\")\n",
    "memory.store(\"Event 3\")\n",
    "\n",
    "# Retrieve the stored events\n",
    "memory_data = memory.retrieve()\n",
    "print(memory_data)  # Output: ['Event 1', 'Event 2', 'Event 3']\n",
    "\n",
    "\n",
    "#This is a basic example, and you can enhance it by adding more functionalities such as searching, updating, or deleting events from the memory based on your specific requirements."
   ]
  },
  {
   "cell_type": "code",
   "execution_count": null,
   "id": "5a9eda61",
   "metadata": {},
   "outputs": [],
   "source": []
  }
 ],
 "metadata": {
  "kernelspec": {
   "display_name": "Python 3 (ipykernel)",
   "language": "python",
   "name": "python3"
  },
  "language_info": {
   "codemirror_mode": {
    "name": "ipython",
    "version": 3
   },
   "file_extension": ".py",
   "mimetype": "text/x-python",
   "name": "python",
   "nbconvert_exporter": "python",
   "pygments_lexer": "ipython3",
   "version": "3.9.13"
  }
 },
 "nbformat": 4,
 "nbformat_minor": 5
}
